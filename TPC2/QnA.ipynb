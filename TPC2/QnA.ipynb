{
 "cells": [
  {
   "cell_type": "markdown",
   "metadata": {},
   "source": [
    "## Dataset História de Portugal\n",
    "Perguntas e Respostas\n",
    "___"
   ]
  },
  {
   "cell_type": "markdown",
   "metadata": {},
   "source": [
    "#### a) Quantos triplos existem na Ontologia? "
   ]
  },
  {
   "cell_type": "code",
   "execution_count": null,
   "metadata": {
    "vscode": {
     "languageId": "sql"
    }
   },
   "outputs": [],
   "source": [
    "PREFIX historia: <http://www.semanticweb.org/andre/ontologies/2015/6/historia#>\n",
    "PREFIX owl: <http://www.w3.org/2002/07/owl#>\n",
    "PREFIX rdf: <http://www.w3.org/1999/02/22-rdf-syntax-ns#>\n",
    "prefix : <http://www.semanticweb.org/andre/ontologies/2015/6/historia#>\n",
    "select (count (*) as ?count) {\n",
    "    ?a ?p ?s .\n",
    "}"
   ]
  },
  {
   "cell_type": "markdown",
   "metadata": {},
   "source": [
    "#### b) Que classes estão definidas?"
   ]
  },
  {
   "cell_type": "code",
   "execution_count": null,
   "metadata": {
    "vscode": {
     "languageId": "sql"
    }
   },
   "outputs": [],
   "source": [
    "PREFIX historia: <http://www.semanticweb.org/andre/ontologies/2015/6/historia#>\n",
    "PREFIX owl: <http://www.w3.org/2002/07/owl#>\n",
    "PREFIX rdf: <http://www.w3.org/1999/02/22-rdf-syntax-ns#>\n",
    "prefix : <http://www.semanticweb.org/andre/ontologies/2015/6/historia#>\n",
    "select ?c {\n",
    "    ?c rdf:type owl:Class .\n",
    "} "
   ]
  },
  {
   "cell_type": "markdown",
   "metadata": {},
   "source": [
    "#### c) Que propriedades tem a classe \"Rei\"?"
   ]
  },
  {
   "cell_type": "code",
   "execution_count": null,
   "metadata": {
    "vscode": {
     "languageId": "sql"
    }
   },
   "outputs": [],
   "source": [
    "PREFIX historia: <http://www.semanticweb.org/andre/ontologies/2015/6/historia#>\n",
    "PREFIX owl: <http://www.w3.org/2002/07/owl#>\n",
    "PREFIX rdf: <http://www.w3.org/1999/02/22-rdf-syntax-ns#>\n",
    "prefix : <http://www.semanticweb.org/andre/ontologies/2015/6/historia#>\n",
    "select distinct ?p {\n",
    "    ?s a historia:Rei .\n",
    "    ?s ?p ?o .\n",
    "}"
   ]
  },
  {
   "cell_type": "markdown",
   "metadata": {},
   "source": [
    "#### d) Quantos reis aparecem na ontologia?"
   ]
  },
  {
   "cell_type": "code",
   "execution_count": null,
   "metadata": {
    "vscode": {
     "languageId": "sql"
    }
   },
   "outputs": [],
   "source": [
    "PREFIX historia: <http://www.semanticweb.org/andre/ontologies/2015/6/historia#>\n",
    "PREFIX owl: <http://www.w3.org/2002/07/owl#>\n",
    "PREFIX rdf: <http://www.w3.org/1999/02/22-rdf-syntax-ns#>\n",
    "prefix : <http://www.semanticweb.org/andre/ontologies/2015/6/historia#>\n",
    "select (count (?s) as ?total) {\n",
    "    ?s a historia:Rei .\n",
    "    ?s ?p ?o .\n",
    "}"
   ]
  },
  {
   "cell_type": "markdown",
   "metadata": {},
   "source": [
    "#### e) Calcula uma tabela com o seu nome, data de nascimento e cognome."
   ]
  },
  {
   "cell_type": "code",
   "execution_count": null,
   "metadata": {
    "vscode": {
     "languageId": "sql"
    }
   },
   "outputs": [],
   "source": [
    "PREFIX historia: <http://www.semanticweb.org/andre/ontologies/2015/6/historia#>\n",
    "PREFIX owl: <http://www.w3.org/2002/07/owl#>\n",
    "PREFIX rdf: <http://www.w3.org/1999/02/22-rdf-syntax-ns#>\n",
    "prefix : <http://www.semanticweb.org/andre/ontologies/2015/6/historia#>\n",
    "select * where {\n",
    "    ?a rdf:type :Rei .\n",
    "    ?a :nome ?nome .\n",
    "    ?a :nascimento ?nascimento .\n",
    "    ?a :cognomes ?cognomes .\n",
    "}"
   ]
  },
  {
   "cell_type": "markdown",
   "metadata": {},
   "source": [
    "#### f) Acrescenta à tabela anterior a dinastia em que cada rei reinou."
   ]
  },
  {
   "cell_type": "code",
   "execution_count": null,
   "metadata": {
    "vscode": {
     "languageId": "sql"
    }
   },
   "outputs": [],
   "source": [
    "PREFIX historia: <http://www.semanticweb.org/andre/ontologies/2015/6/historia#>\n",
    "PREFIX owl: <http://www.w3.org/2002/07/owl#>\n",
    "PREFIX rdf: <http://www.w3.org/1999/02/22-rdf-syntax-ns#>\n",
    "prefix : <http://www.semanticweb.org/andre/ontologies/2015/6/historia#>\n",
    "select ?nome ?nascimento ?cognomes ?dinastia where {\n",
    "    ?a rdf:type :Rei .\n",
    "    ?a :nome ?nome .\n",
    "    ?a :nascimento ?nascimento .\n",
    "    ?a :cognomes ?cognomes .\n",
    "    ?a historia:temReinado ?r .\n",
    "    ?r historia:dinastia ?dinastia .\n",
    "}"
   ]
  },
  {
   "cell_type": "markdown",
   "metadata": {},
   "source": [
    "#### g) Qual a distribuição de reis pelas 4 dinastias?"
   ]
  },
  {
   "cell_type": "code",
   "execution_count": null,
   "metadata": {
    "vscode": {
     "languageId": "sql"
    }
   },
   "outputs": [],
   "source": [
    "PREFIX historia: <http://www.semanticweb.org/andre/ontologies/2015/6/historia#>\n",
    "PREFIX owl: <http://www.w3.org/2002/07/owl#>\n",
    "PREFIX rdf: <http://www.w3.org/1999/02/22-rdf-syntax-ns#>\n",
    "prefix : <http://www.semanticweb.org/andre/ontologies/2015/6/historia#>\n",
    "select (count (?a) as ?total) ?dinastia where {\n",
    "    ?a rdf:type :Rei .\n",
    "    ?a historia:temReinado ?r .\n",
    "    ?r historia:dinastia ?dinastia .\n",
    "\n",
    "}group by ?dinastia"
   ]
  },
  {
   "cell_type": "markdown",
   "metadata": {},
   "source": [
    "#### h) Lista os descobrimentos (sua descrição) por ordem cronológica."
   ]
  },
  {
   "cell_type": "code",
   "execution_count": null,
   "metadata": {
    "vscode": {
     "languageId": "sql"
    }
   },
   "outputs": [],
   "source": [
    "PREFIX historia: <http://www.semanticweb.org/andre/ontologies/2015/6/historia#>\n",
    "PREFIX owl: <http://www.w3.org/2002/07/owl#>\n",
    "PREFIX rdf: <http://www.w3.org/1999/02/22-rdf-syntax-ns#>\n",
    "prefix : <http://www.semanticweb.org/andre/ontologies/2015/6/historia#>\n",
    "select ?nota where {\n",
    "    ?h rdf:type historia:Descobrimento .\n",
    "    ?h historia:notas ?nota .\n",
    "    ?h historia:data ?data .\n",
    "} order by ?data"
   ]
  },
  {
   "cell_type": "markdown",
   "metadata": {},
   "source": [
    "#### i) Lista as várias conquistas, nome e data, juntamento com o nome que reinava no momento."
   ]
  },
  {
   "cell_type": "code",
   "execution_count": null,
   "metadata": {
    "vscode": {
     "languageId": "sql"
    }
   },
   "outputs": [],
   "source": [
    "PREFIX historia: <http://www.semanticweb.org/andre/ontologies/2015/6/historia#>\n",
    "PREFIX owl: <http://www.w3.org/2002/07/owl#>\n",
    "PREFIX rdf: <http://www.w3.org/1999/02/22-rdf-syntax-ns#>\n",
    "prefix : <http://www.semanticweb.org/andre/ontologies/2015/6/historia#>\n",
    "select ?nomeC ?data ?nomeR where {\n",
    "    ?h rdf:type historia:Conquista .\n",
    "    ?h historia:nome ?nomeC .\n",
    "    ?h historia:data ?data .\n",
    "    ?h historia:temReinado ?r .\n",
    "    ?r historia:temMonarca ?m .\n",
    "    ?m historia:nome ?nomeR .\n",
    "}"
   ]
  },
  {
   "cell_type": "markdown",
   "metadata": {},
   "source": [
    "#### j) Calcula uma tabela com o nome, data de nascimento e número de mandatos de todos os presidentes portugueses."
   ]
  },
  {
   "cell_type": "code",
   "execution_count": null,
   "metadata": {
    "vscode": {
     "languageId": "sql"
    }
   },
   "outputs": [],
   "source": [
    "PREFIX historia: <http://www.semanticweb.org/andre/ontologies/2015/6/historia#>\n",
    "PREFIX owl: <http://www.w3.org/2002/07/owl#>\n",
    "PREFIX rdf: <http://www.w3.org/1999/02/22-rdf-syntax-ns#>\n",
    "prefix : <http://www.semanticweb.org/andre/ontologies/2015/6/historia#>\n",
    "select ?nomeP ?data (count (?mandato) as ?total) where {\n",
    "    ?s rdf:type historia:Presidente .\n",
    "    ?s historia:nome ?nomeP .\n",
    "    ?s historia:nascimento ?data .\n",
    "    ?s historia:mandato ?mandato .\n",
    "} group by ?nomeP ?data"
   ]
  },
  {
   "cell_type": "markdown",
   "metadata": {},
   "source": [
    "#### k) Quantos mandatos teve o presidente Sidónio Pais? Em que datas iniciaram e terminaram esses mandatos?"
   ]
  },
  {
   "cell_type": "code",
   "execution_count": null,
   "metadata": {
    "vscode": {
     "languageId": "sql"
    }
   },
   "outputs": [],
   "source": [
    "PREFIX historia: <http://www.semanticweb.org/andre/ontologies/2015/6/historia#>\n",
    "PREFIX owl: <http://www.w3.org/2002/07/owl#>\n",
    "PREFIX rdf: <http://www.w3.org/1999/02/22-rdf-syntax-ns#>\n",
    "prefix : <http://www.semanticweb.org/andre/ontologies/2015/6/historia#>\n",
    "select (count(distinct ?mandato) as ?total) where {\n",
    "    ?p rdf:type :Presidente .\n",
    "    ?p :nome \"Sidónio Bernardino Cardoso da Silva Pais\" .\n",
    "    ?p :mandato ?mandato .\n",
    "} group by ?p"
   ]
  },
  {
   "cell_type": "markdown",
   "metadata": {},
   "source": [
    "#### l) Quais os nomes dos partidos políticos presentes na ontologia?"
   ]
  },
  {
   "cell_type": "code",
   "execution_count": null,
   "metadata": {
    "vscode": {
     "languageId": "sql"
    }
   },
   "outputs": [],
   "source": [
    "PREFIX historia: <http://www.semanticweb.org/andre/ontologies/2015/6/historia#>\n",
    "PREFIX owl: <http://www.w3.org/2002/07/owl#>\n",
    "PREFIX rdf: <http://www.w3.org/1999/02/22-rdf-syntax-ns#>\n",
    "prefix : <http://www.semanticweb.org/andre/ontologies/2015/6/historia#>\n",
    "select * where {\n",
    "    ?s rdf:type historia:Partido .\n",
    "    ?s historia:nome ?nome .\n",
    "}"
   ]
  },
  {
   "cell_type": "markdown",
   "metadata": {},
   "source": [
    "#### m) Qual a distribuição dos militantes por cada partido político?"
   ]
  },
  {
   "cell_type": "code",
   "execution_count": null,
   "metadata": {
    "vscode": {
     "languageId": "sql"
    }
   },
   "outputs": [],
   "source": [
    "PREFIX historia: <http://www.semanticweb.org/andre/ontologies/2015/6/historia#>\n",
    "PREFIX owl: <http://www.w3.org/2002/07/owl#>\n",
    "PREFIX rdf: <http://www.w3.org/1999/02/22-rdf-syntax-ns#>\n",
    "prefix : <http://www.semanticweb.org/andre/ontologies/2015/6/historia#>\n",
    "SELECT (COUNT(DISTINCT ?m) as ?total) ?p WHERE {\n",
    "  ?p a :Partido .\n",
    "  ?p :temMilitante ?m .\n",
    "} GROUP BY ?p"
   ]
  },
  {
   "cell_type": "markdown",
   "metadata": {},
   "source": [
    "#### n) Qual o partido com maior número de presidentes militantes?"
   ]
  },
  {
   "cell_type": "code",
   "execution_count": null,
   "metadata": {
    "vscode": {
     "languageId": "sql"
    }
   },
   "outputs": [],
   "source": [
    "PREFIX historia: <http://www.semanticweb.org/andre/ontologies/2015/6/historia#>\n",
    "PREFIX owl: <http://www.w3.org/2002/07/owl#>\n",
    "PREFIX rdf: <http://www.w3.org/1999/02/22-rdf-syntax-ns#>\n",
    "prefix : <http://www.semanticweb.org/andre/ontologies/2015/6/historia#>\n",
    "SELECT (COUNT(DISTINCT ?militante) as ?total) WHERE {\n",
    "  ?p rdf:type historia:Partido .\n",
    "  ?p historia:nome ?nome .\n",
    "  ?p historia:temMilitante ?militante .\n",
    "  ?militante a :Presidente .\n",
    "} GROUP BY ?nome"
   ]
  }
 ],
 "metadata": {
  "language_info": {
   "name": "python"
  }
 },
 "nbformat": 4,
 "nbformat_minor": 2
}
